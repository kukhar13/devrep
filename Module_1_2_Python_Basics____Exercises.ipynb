{
 "cells": [
  {
   "cell_type": "markdown",
   "metadata": {
    "colab_type": "text",
    "id": "4jLE0nxT_P19"
   },
   "source": [
    "<center><img src=\"https://i.ibb.co/4100VJZ/DEV-logo-1.jpg\" width=\"400\"></center>\n",
    "\n",
    "<center><font size=\"6\"><b>Module 1. Python</b></font></center>\n",
    "\n",
    "<center><font size=\"4\"><b>1.2. Python Basics || Exercises</b></font></center>\n",
    "\n",
    "***"
   ]
  },
  {
   "cell_type": "markdown",
   "metadata": {
    "colab_type": "text",
    "id": "OflG6K-YVWbw"
   },
   "source": [
    "### Task #1\n",
    "\n",
    "1. Create a variable `x` that holds an integer value. \n",
    "\n",
    "2. Convert this variable `x` into floating-point number.\n",
    "\n",
    "3. Create new variable `y` that holds any numeric value. Get the value of `x` in the power of `y` and save it as a varialbe `z`. *There might be two possible solutions.*\n",
    "\n",
    "4. Print out the value of `z` variable and its type."
   ]
  },
  {
   "cell_type": "code",
   "execution_count": 8,
   "metadata": {
    "colab": {},
    "colab_type": "code",
    "id": "2vu87JoBTOfH"
   },
   "outputs": [
    {
     "data": {
      "text/plain": [
       "2.0"
      ]
     },
     "execution_count": 8,
     "metadata": {},
     "output_type": "execute_result"
    }
   ],
   "source": [
    "# YOUR CODE GOES HERE\n",
    "#1\n",
    "x = 2\n",
    "#2\n",
    "x = float(x)"
   ]
  },
  {
   "cell_type": "code",
   "execution_count": 11,
   "metadata": {},
   "outputs": [
    {
     "name": "stdout",
     "output_type": "stream",
     "text": [
      "8\n",
      "<class 'int'>\n"
     ]
    }
   ],
   "source": [
    "#3\n",
    "y = 3\n",
    "z = pow(x, y)\n",
    "#4\n",
    "print(z)\n",
    "print(type(z))"
   ]
  },
  {
   "cell_type": "markdown",
   "metadata": {
    "colab_type": "text",
    "id": "LirTJrM7W-cg"
   },
   "source": [
    "### Task #2\n",
    "\n",
    "1. Print out the string which looks like this: **\"X to the power of Y equals to Z.\"**, where X, Y and Z are values of your variables using string formatting.\n",
    "\n",
    "2. Slice the string so you can read only **\"X to the power\"**, reverse it and print it out.\n",
    "\n",
    "Expected outcome:\n",
    "```python\n",
    "x = 2\n",
    "y = 3\n",
    "\"2 to the power of 3 equals to 8.\"\n",
    "\"rewop eht ot 2\"\n",
    "```"
   ]
  },
  {
   "cell_type": "code",
   "execution_count": 33,
   "metadata": {
    "colab": {},
    "colab_type": "code",
    "id": "8R4pqDIyW96X"
   },
   "outputs": [
    {
     "name": "stdout",
     "output_type": "stream",
     "text": [
      "2 to the power of 4 equals to 16.\n",
      " rewop eht ot 2\n"
     ]
    }
   ],
   "source": [
    "# YOUR CODE GOES HERE\n",
    "x = 2\n",
    "y = 4\n",
    "str1 = f\"{x} to the power of {y} equals to {x**y}.\"\n",
    "print(str1)\n",
    "str1 = str1[14::-1]\n",
    "print(str1)\n"
   ]
  },
  {
   "cell_type": "markdown",
   "metadata": {
    "colab_type": "text",
    "id": "TnzAtVsKZkjc"
   },
   "source": [
    "### Task #3\n",
    "\n",
    "1. Create a new list `my_list` that holds any 5 colors you wish.\n",
    "\n",
    "2. Check if there is `\"light purple\"` color in your list. If there is no such color add it using `append` method.\n",
    "\n",
    "3. Change the first item in your list to `\"white\"`.\n",
    "\n",
    "4. Delete the second item and print the list out."
   ]
  },
  {
   "cell_type": "code",
   "execution_count": 44,
   "metadata": {
    "colab": {},
    "colab_type": "code",
    "id": "royz-qkJZmQ8"
   },
   "outputs": [
    {
     "name": "stdout",
     "output_type": "stream",
     "text": [
      "['blue', 'red', 'orange', 'purple', 'black', 'Light purple']\n"
     ]
    },
    {
     "data": {
      "text/plain": [
       "'orange'"
      ]
     },
     "execution_count": 44,
     "metadata": {},
     "output_type": "execute_result"
    }
   ],
   "source": [
    "# YOUR CODE GOES HERE\n",
    "my_list = ['blue', 'red', 'orange', 'purple', 'black']\n",
    "'Light purple' in my_list\n",
    "my_list.append('Light purple')\n",
    "print(my_list)\n",
    "my_list[0] ='white'\n",
    "del my_list[1]\n",
    "my_list.pop(1)\n"
   ]
  },
  {
   "cell_type": "code",
   "execution_count": 49,
   "metadata": {},
   "outputs": [
    {
     "name": "stdout",
     "output_type": "stream",
     "text": [
      "['white', 'purple', 'Light purple']\n"
     ]
    }
   ],
   "source": [
    "my_list.remove('black')\n",
    "print(my_list)"
   ]
  },
  {
   "cell_type": "markdown",
   "metadata": {
    "colab_type": "text",
    "id": "bjIBnKjHceq4"
   },
   "source": [
    "### Task #4\n",
    "\n",
    "1. Create a dictionary that holds an information of countries' capitals (country as a key, capital as an item): Germany, Switzerland, Australia, India, Turkey. Print it out.\n",
    "\n",
    "2. Add the capital of Kazakhstan.\n",
    "\n",
    "3. Print out just the capitals names."
   ]
  },
  {
   "cell_type": "code",
   "execution_count": 60,
   "metadata": {
    "colab": {},
    "colab_type": "code",
    "id": "A9WZujmvd3pd"
   },
   "outputs": [
    {
     "name": "stdout",
     "output_type": "stream",
     "text": [
      "dict_values(['Berlin', 'Bern', 'Canbera', 'New-Deli', 'Ankara', 'Astana'])\n"
     ]
    }
   ],
   "source": [
    "# YOUR CODE GOES HERE\n",
    "dict1 = {'Germany': 'Berlin', 'Switzerland': 'Bern', 'Australia': 'Canbera', 'India': 'New-Deli', 'Turkey': 'Ankara'}\n",
    "dict1['Kazakhstan'] = 'Astana'\n",
    "print(dict1.values())"
   ]
  },
  {
   "cell_type": "markdown",
   "metadata": {
    "colab_type": "text",
    "id": "2QuFFg1KTP-t"
   },
   "source": [
    "### Task #5\n",
    "\n",
    "Find the values that are unique for the first list.\n",
    "\n",
    "Expected output:\n",
    "\n",
    "```python\n",
    "[1,4,6,7]\n",
    "```"
   ]
  },
  {
   "cell_type": "code",
   "execution_count": 85,
   "metadata": {
    "colab": {},
    "colab_type": "code",
    "id": "spnHiR02TdSL"
   },
   "outputs": [
    {
     "data": {
      "text/plain": [
       "{1, 4, 6, 7}"
      ]
     },
     "execution_count": 85,
     "metadata": {},
     "output_type": "execute_result"
    }
   ],
   "source": [
    "list_one = [1,2,3,4,5,6,7]\n",
    "list_two = [2,5,3]\n",
    "# YOUR CODE GOES HERE\n",
    "set1= set(list_one) - set(list_two)"
   ]
  },
  {
   "cell_type": "markdown",
   "metadata": {
    "colab_type": "text",
    "id": "5uXdDpjET7eA"
   },
   "source": [
    "### Task #6\n",
    "\n",
    "Find all occurrences of substring \"Data\" in given string ignoring the case. \n",
    "\n",
    "Expected outcome:\n",
    "```python\n",
    "3\n",
    "```"
   ]
  },
  {
   "cell_type": "code",
   "execution_count": 90,
   "metadata": {
    "colab": {},
    "colab_type": "code",
    "id": "-yLtDPyVTdrG"
   },
   "outputs": [
    {
     "data": {
      "text/plain": [
       "3"
      ]
     },
     "execution_count": 90,
     "metadata": {},
     "output_type": "execute_result"
    }
   ],
   "source": [
    "string = \"Data science is a concept to unify statistics, data analysis, machine\\\n",
    "    learning and their related methods in order to understand and analyze\\\n",
    "    actual phenomena with data.\"\n",
    "\n",
    "# YOUR CODE GOES HERE\n",
    "string = string.lower()\n",
    "string.count(\"data\")\n",
    "\n",
    "\n"
   ]
  },
  {
   "cell_type": "markdown",
   "metadata": {
    "colab_type": "text",
    "id": "lORkhbauVchI"
   },
   "source": [
    "### Task #7\n",
    "\n",
    "Remove duplicate from a list and create a tuple and find the minimum and maximum number."
   ]
  },
  {
   "cell_type": "code",
   "execution_count": 105,
   "metadata": {
    "colab": {
     "base_uri": "https://localhost:8080/",
     "height": 35
    },
    "colab_type": "code",
    "id": "57Gp1maMWDWh",
    "outputId": "e82c25c5-8e45-4be6-b36d-57f68b076016"
   },
   "outputs": [
    {
     "name": "stdout",
     "output_type": "stream",
     "text": [
      "100\n",
      "1\n"
     ]
    }
   ],
   "source": [
    "random_list = [1, 4, 5, 10, 1, 3, 30, 100, 5]\n",
    "\n",
    "# YOUR CODE GOES HERE\n",
    "random_list = tuple(set(random_list))\n",
    "print(max(random_list))\n",
    "print(min(random_list))\n"
   ]
  },
  {
   "cell_type": "markdown",
   "metadata": {
    "colab_type": "text",
    "id": "alRgo8HIWg14"
   },
   "source": [
    "### Task #8\n",
    "\n",
    "Given two sets, checks if `set_one` is a subset or `set_two`. If it's True delete all elements from the `set_one`."
   ]
  },
  {
   "cell_type": "code",
   "execution_count": 129,
   "metadata": {
    "colab": {},
    "colab_type": "code",
    "id": "RxfbsbqsW8Up"
   },
   "outputs": [
    {
     "data": {
      "text/plain": [
       "set()"
      ]
     },
     "execution_count": 129,
     "metadata": {},
     "output_type": "execute_result"
    }
   ],
   "source": [
    "set_one = {57, 83, 29}\n",
    "set_two = {67, 73, 43, 48, 83, 57, 29}\n",
    "\n",
    "# YOUR CODE GOES HERE\n",
    "set_one is not set_two\n",
    "set_one.clear()"
   ]
  },
  {
   "cell_type": "markdown",
   "metadata": {
    "colab_type": "text",
    "id": "5HlthU73XbMO"
   },
   "source": [
    "### Task #9\n",
    "\n",
    "Given an input string `my_string`, count occurrences of \"a\", \"b\" and \"c\" within a string and present them as a dictionary.\n",
    "\n",
    "Expected output:\n",
    "\n",
    "```python\n",
    "{'a': 21, 'b': 0, 'c': 7}\n",
    "```"
   ]
  },
  {
   "cell_type": "code",
   "execution_count": 136,
   "metadata": {
    "colab": {},
    "colab_type": "code",
    "id": "fbzuRDZujnhF"
   },
   "outputs": [
    {
     "data": {
      "text/plain": [
       "{'a': 21, 'b': 0, 'c': 7}"
      ]
     },
     "execution_count": 136,
     "metadata": {},
     "output_type": "execute_result"
    }
   ],
   "source": [
    "string = \"Data science is a concept to unify statistics, data analysis, machine\\\n",
    "    learning and their related methods in order to understand and analyze\\\n",
    "    actual phenomena with data.\"\n",
    "\n",
    "# YOUR CODE GOES HERE\n",
    "a = string.count(\"a\")\n",
    "b = string.count(\"b\")\n",
    "c = string.count(\"c\")\n",
    "dict1 = {'a': a, 'b': b, 'c': c}\n",
    "dict1\n",
    "\n",
    "\n"
   ]
  },
  {
   "cell_type": "markdown",
   "metadata": {
    "colab_type": "text",
    "id": "frXoXi52twFQ"
   },
   "source": [
    "### Task #10\n",
    "\n",
    "Find sum all the items in a dictionary.\n",
    "\n",
    "Expected outcome\n",
    "```python\n",
    "390\n",
    "```"
   ]
  },
  {
   "cell_type": "code",
   "execution_count": 190,
   "metadata": {
    "colab": {},
    "colab_type": "code",
    "id": "JH7g50AbfVp-"
   },
   "outputs": [
    {
     "data": {
      "text/plain": [
       "390"
      ]
     },
     "execution_count": 190,
     "metadata": {},
     "output_type": "execute_result"
    }
   ],
   "source": [
    "dict1 = {'a': [10, 20, 30, 40],\n",
    "           'b': [22, 11, 33, 44],\n",
    "           'c': [12, 34, 56, 78]}\n",
    "\n",
    "# YOUR CODE GOES HERE\n",
    "dict2 = sum(list(dict1['a']))\n",
    "dict3 = sum(list(dict1['b']))\n",
    "dict4 = sum(list(dict1['c']))\n",
    "dict2 + dict3 + dict4\n"
   ]
  },
  {
   "cell_type": "markdown",
   "metadata": {
    "colab_type": "text",
    "id": "pvVHWUF4gSm8"
   },
   "source": [
    "### Task #11\n",
    "\n",
    "Find the second smallest and largest number is a list."
   ]
  },
  {
   "cell_type": "code",
   "execution_count": 216,
   "metadata": {
    "colab": {},
    "colab_type": "code",
    "id": "HFL0NALUf2RG"
   },
   "outputs": [
    {
     "data": {
      "text/plain": [
       "398"
      ]
     },
     "execution_count": 216,
     "metadata": {},
     "output_type": "execute_result"
    }
   ],
   "source": [
    "list1 = [1,200, 34, 65, 499, 11, -4, 42, 398, 12, 3, 100]\n",
    "\n",
    "# YOUR CODE GOES HERE\n",
    "l2 = set(list1)\n",
    "print(sorted(l2)[1])\n",
    "print(sorted(l2)[-2])\n",
    "\n",
    "\n"
   ]
  },
  {
   "cell_type": "markdown",
   "metadata": {
    "colab_type": "text",
    "id": "yK8b3Mf0guPD"
   },
   "source": [
    "### Task #12\n",
    "\n",
    "Concatenate following dictionaries to create a new one.\n",
    "\n",
    "Expected outcome:\n",
    "```python\n",
    "{1: 10, 2: 20, 3: 30, 4: 40, 5: 50, 6: 60}\n",
    "```"
   ]
  },
  {
   "cell_type": "code",
   "execution_count": 221,
   "metadata": {
    "colab": {},
    "colab_type": "code",
    "id": "NCTujRJdg6n_"
   },
   "outputs": [
    {
     "data": {
      "text/plain": [
       "{1: 10, 2: 20, 3: 30, 4: 40, 5: 50, 6: 60}"
      ]
     },
     "execution_count": 221,
     "metadata": {},
     "output_type": "execute_result"
    }
   ],
   "source": [
    "dic1 = {1:10, 2:20}\n",
    "dic2 = {3:30, 4:40}\n",
    "dic3 = {5:50, 6:60}\n",
    "\n",
    "# YOUR CODE GOES HERE\n",
    "dict4 = dict(dic1)\n",
    "dict4.update(dic2)\n",
    "dict4.update(dic3)\n",
    "dict4"
   ]
  },
  {
   "cell_type": "markdown",
   "metadata": {
    "colab_type": "text",
    "id": "32h8Qu3ShOVM"
   },
   "source": [
    "### Task #13\n",
    "\n",
    "Map two lists into a dictionary.\n",
    "\n",
    "Expected outcome:\n",
    "```python\n",
    "{'green': '#008000', 'blue': '#0000FF', 'red': '#FF0000'} \n",
    "```"
   ]
  },
  {
   "cell_type": "code",
   "execution_count": 225,
   "metadata": {
    "colab": {},
    "colab_type": "code",
    "id": "ZBbgGomchYa3"
   },
   "outputs": [
    {
     "data": {
      "text/plain": [
       "{'red': '#FF0000', 'green': '#008000', 'blue': '#0000FF'}"
      ]
     },
     "execution_count": 225,
     "metadata": {},
     "output_type": "execute_result"
    }
   ],
   "source": [
    "keys = ['red', 'green', 'blue']\n",
    "values = ['#FF0000','#008000', '#0000FF']\n",
    "\n",
    "# YOUR CODE GOES HERE\n",
    "dictionary_1 = dict(zip(keys, values))\n",
    "dictionary_1\n",
    "\n",
    "\n"
   ]
  }
 ],
 "metadata": {
  "colab": {
   "name": "Module 1.2: Python Basics || Exercises.ipynb",
   "provenance": []
  },
  "kernelspec": {
   "display_name": "Python 3",
   "language": "python",
   "name": "python3"
  },
  "language_info": {
   "codemirror_mode": {
    "name": "ipython",
    "version": 3
   },
   "file_extension": ".py",
   "mimetype": "text/x-python",
   "name": "python",
   "nbconvert_exporter": "python",
   "pygments_lexer": "ipython3",
   "version": "3.7.0"
  }
 },
 "nbformat": 4,
 "nbformat_minor": 2
}
